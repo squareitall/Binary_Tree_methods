{
  "nbformat": 4,
  "nbformat_minor": 0,
  "metadata": {
    "colab": {
      "name": "BinaryTrees.ipynb",
      "provenance": [],
      "collapsed_sections": []
    },
    "kernelspec": {
      "name": "python3",
      "display_name": "Python 3"
    },
    "language_info": {
      "name": "python"
    }
  },
  "cells": [
    {
      "cell_type": "code",
      "metadata": {
        "colab": {
          "base_uri": "https://localhost:8080/"
        },
        "id": "HRJbijhdUHUq",
        "outputId": "cb3d76bd-78fe-4e51-b3f6-fa40350ead5c"
      },
      "source": [
        "import numpy as np\n",
        "import pandas as pd\n",
        "\n",
        "len([None])\n",
        "\n"
      ],
      "execution_count": 1,
      "outputs": [
        {
          "output_type": "execute_result",
          "data": {
            "text/plain": [
              "1"
            ]
          },
          "metadata": {},
          "execution_count": 1
        }
      ]
    },
    {
      "cell_type": "code",
      "metadata": {
        "id": "L_jzxckdXUEl"
      },
      "source": [
        "class node():\n",
        "\n",
        "  def __init__(self,val):\n",
        "    self.val=val\n",
        "    self.right=None\n",
        "    self.left=None\n",
        "\n",
        "\n",
        "A=node('a')\n",
        "B=node('b')\n",
        "C=node('c')\n",
        "D=node('d')\n",
        "E=node('e')\n",
        "\n",
        "\n",
        "A.left=B\n",
        "A.right=C\n",
        "\n",
        "B.left=D\n",
        "B.right=E\n"
      ],
      "execution_count": 2,
      "outputs": []
    },
    {
      "cell_type": "code",
      "metadata": {
        "colab": {
          "base_uri": "https://localhost:8080/"
        },
        "id": "PPGdKFtUUL1X",
        "outputId": "e1b67391-2b2d-4d4f-d10c-24a01fca8794"
      },
      "source": [
        "def wrapper(node):\n",
        "  storer=[]\n",
        "\n",
        "  '''Need to define IOLOgging inside the wrapper\n",
        "   so as to use nonlocal storer'''\n",
        "  def IOLogging(node):\n",
        "    nonlocal storer\n",
        "    if not node:\n",
        "      return\n",
        "\n",
        "    IOLogging(node.left)\n",
        "    storer.append(node.val)\n",
        "    IOLogging(node.right)\n",
        "  \n",
        "  IOLogging(node)\n",
        "  return storer\n",
        "\n",
        "\n",
        "\n",
        "t=wrapper(A)\n",
        "t\n"
      ],
      "execution_count": 3,
      "outputs": [
        {
          "output_type": "execute_result",
          "data": {
            "text/plain": [
              "['d', 'b', 'e', 'a', 'c']"
            ]
          },
          "metadata": {},
          "execution_count": 3
        }
      ]
    },
    {
      "cell_type": "code",
      "metadata": {
        "colab": {
          "base_uri": "https://localhost:8080/"
        },
        "id": "-VkAULVDUP9A",
        "outputId": "222fbba2-e17a-4719-f1c6-86ec0ffae701"
      },
      "source": [
        "class node():\n",
        "\n",
        "  def __init__(self,val):\n",
        "    self.val=val\n",
        "    self.right=None\n",
        "    self.left=None\n",
        "\n",
        "def wrapper(node):\n",
        "  storer=[]\n",
        "\n",
        "  '''Need to define IOLOgging inside the wrapper\n",
        "   so as to use nonlocal storer'''\n",
        "  def PreOLogging(node):\n",
        "    nonlocal storer\n",
        "    if not node:\n",
        "      return\n",
        "    \n",
        "    storer.append(node.val)\n",
        "    PreOLogging(node.left)\n",
        "    PreOLogging(node.right)\n",
        "  \n",
        "  PreOLogging(node)\n",
        "  return storer\n",
        "\n",
        "\n",
        "t=wrapper(A)\n",
        "t\n",
        "\n",
        "print('hi') if 1 else None\n"
      ],
      "execution_count": 4,
      "outputs": [
        {
          "output_type": "stream",
          "name": "stdout",
          "text": [
            "hi\n"
          ]
        }
      ]
    },
    {
      "cell_type": "code",
      "metadata": {
        "colab": {
          "base_uri": "https://localhost:8080/"
        },
        "id": "i1VXzDuGb59A",
        "outputId": "0016b5be-9c23-48d4-c26d-ec729d8943ed"
      },
      "source": [
        "from collections import deque\n",
        "\n",
        "# value_when_true if condition else value_when_false ---> One liner if, iffy if\n",
        "\n",
        "class stack(deque):\n",
        "\n",
        "  def peek(self,verbosity=0):\n",
        "    current_item=self.pop()\n",
        "    self.append(current_item)\n",
        "    if verbosity:\n",
        "      print(f'bro_bo {current_item} is at the face')\n",
        "    return current_item\n",
        "\n",
        "\n",
        "def wrapper(node,traversal='BFS'):\n",
        "  storer=[]\n",
        "\n",
        "  if not node:\n",
        "    return storer\n",
        "  \n",
        "\n",
        "  def breadth_first_search(node):\n",
        "    '''\n",
        "    FIFO process, appending and removing has to take place from two different ends \n",
        "    '''\n",
        "    nonlocal storer\n",
        "    temp_stack=stack()\n",
        "\n",
        "    temp_stack.appendleft(node)  \n",
        "\n",
        "\n",
        "    while len(temp_stack)>0:\n",
        "\n",
        "      temp=temp_stack.pop()\n",
        "      storer.append(temp.val)\n",
        "\n",
        "      temp_stack.appendleft(temp.left) if temp.left else None\n",
        "      temp_stack.appendleft(temp.right) if temp.left else None\n",
        "  \n",
        "\n",
        "  def depth_first_search(node):\n",
        "\n",
        "    '''\n",
        "    DFS is a LIFO process , the appending and removal has to carried out from same ends, here right\n",
        "    '''\n",
        "    temp_stack=stack()\n",
        "\n",
        "    temp_stack.append(node) \n",
        "    nonlocal storer\n",
        "\n",
        "    while len(temp_stack)>0:\n",
        "\n",
        "      temp=temp_stack.pop()\n",
        "      storer.append(temp.val)\n",
        "      \n",
        "      temp_stack.append(temp.right) if temp.left else None\n",
        "      temp_stack.append(temp.left) if temp.left else None\n",
        "    \n",
        "\n",
        "  if traversal.lower()=='dfs':\n",
        "    depth_first_search(node)\n",
        "  elif traversal.lower() =='bfs':\n",
        "    breadth_first_search(node)\n",
        "  \n",
        "  return storer\n",
        "\n",
        "tt=wrapper(A)\n",
        "tt\n",
        "\n"
      ],
      "execution_count": 5,
      "outputs": [
        {
          "output_type": "execute_result",
          "data": {
            "text/plain": [
              "['a', 'b', 'c', 'd', 'e']"
            ]
          },
          "metadata": {},
          "execution_count": 5
        }
      ]
    },
    {
      "cell_type": "code",
      "metadata": {
        "id": "CgyMkbkNgEbX"
      },
      "source": [
        "storer=[]  \n",
        "\n",
        "def breadth_first_logger(node):\n",
        "  '''\n",
        "  FIFO process, appending and removing has to take place from two different ends\n",
        "  We will store a tuple having the val of the node and information about the depth at which the value occurs  \n",
        "  '''\n",
        "  global storer\n",
        "  temp_stack=stack()\n",
        "\n",
        "  ct=0\n",
        "  p=False\n",
        "  info_tuple=(node,ct,p)\n",
        "  temp_stack.appendleft(info_tuple)  \n",
        "\n",
        "\n",
        "  while len(temp_stack)>0:\n",
        "\n",
        "    temp_info=temp_stack.pop()\n",
        "    temp=temp_info[0]\n",
        "    at_depth=temp_info[1]#Earth science wali baat, with depth number increases\n",
        "    p=temp_info[2]\n",
        "\n",
        "    storer.append([temp.val,at_depth,p])\n",
        "\n",
        "\n",
        "    if temp.left:\n",
        "      info_tuple_left=(temp.left,at_depth+1,temp.val)#current temp val is the contributor, and temp gets updated to temp.left,and series will iteratively proceed\n",
        "      temp_stack.appendleft(info_tuple_left)\n",
        "\n",
        "    if temp.right:\n",
        "      info_tuple_right=(temp.right,at_depth+1,temp.val)\n",
        "      temp_stack.appendleft(info_tuple_right)\n",
        "\n",
        "\n"
      ],
      "execution_count": 40,
      "outputs": []
    },
    {
      "cell_type": "code",
      "metadata": {
        "colab": {
          "base_uri": "https://localhost:8080/"
        },
        "id": "z7fCgyWFiUvM",
        "outputId": "dfafb2f4-8631-4fc1-95dc-36d961733c54"
      },
      "source": [
        "breadth_first_logger(A)\n",
        "# del storer\n",
        "def indented_print():\n",
        "\n",
        "  global storer\n",
        "\n",
        "  depth=storer[-1][1]+1\n",
        "  nodes=pow(2,depth)-1\n",
        "\n",
        "  place_holder=np.zeros(shape=(depth,nodes),dtype=str)\n",
        "\n",
        "  helper_dict={}\n",
        "  l=0\n",
        "  h=nodes\n",
        "\n",
        "\n",
        "  for i in storer:\n",
        "    val=i[0]\n",
        "    temp_d=i[1]\n",
        "    if not i[2]:\n",
        "      l_bound=l\n",
        "      r_bound=h\n",
        "    else:\n",
        "      p=i[2]\n",
        "      side_left=helper_dict[p]['side_left']\n",
        "      \n",
        "\n",
        "      if side_left:\n",
        "        l_bound=helper_dict[p]['l_bound']#contributors left bound\n",
        "        r_bound=helper_dict[p]['place_value']\n",
        "        helper_dict[p]['side_left']=False\n",
        "      else:\n",
        "        l_bound=helper_dict[p]['place_value']\n",
        "        r_bound=helper_dict[p]['r_bound']#contributors right bound\n",
        "      \n",
        "    temp_b=int((l_bound+r_bound)/2)\n",
        "\n",
        "    helper_dict[val]={\n",
        "        'place_value':temp_b,\n",
        "        'l_bound':l_bound,\n",
        "        'r_bound':r_bound,\n",
        "        'side_left':True,\n",
        "    }\n",
        "\n",
        "    place_holder[temp_d,temp_b]=val\n",
        "\n",
        "\n",
        "  return  place_holder\n",
        "\n",
        "\n",
        "\n",
        "\n",
        "\n",
        "\n",
        "# storer \n",
        "indented_print()"
      ],
      "execution_count": 54,
      "outputs": [
        {
          "output_type": "execute_result",
          "data": {
            "text/plain": [
              "array([['', '', '', 'a', '', '', ''],\n",
              "       ['', 'b', '', '', '', 'c', ''],\n",
              "       ['d', '', 'e', '', '', '', '']], dtype='<U1')"
            ]
          },
          "metadata": {},
          "execution_count": 54
        }
      ]
    },
    {
      "cell_type": "code",
      "metadata": {
        "id": "nISK_6Zjlglb"
      },
      "source": [
        "int(False)\n",
        "storer\n",
        "t=np.zeros(shape=(3,5),dtype=str)"
      ],
      "execution_count": 53,
      "outputs": []
    },
    {
      "cell_type": "code",
      "metadata": {
        "id": "T5exRnJpuNwf"
      },
      "source": [
        ""
      ],
      "execution_count": null,
      "outputs": []
    }
  ]
}